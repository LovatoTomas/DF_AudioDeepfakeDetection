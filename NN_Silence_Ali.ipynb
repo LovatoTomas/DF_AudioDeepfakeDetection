{
 "cells": [
  {
   "cell_type": "code",
   "execution_count": 1,
   "id": "df168bf9-2318-4b50-9653-255c03234539",
   "metadata": {},
   "outputs": [
    {
     "name": "stdout",
     "output_type": "stream",
     "text": [
      "Requirement already satisfied: librosa in c:\\users\\alisea\\appdata\\local\\programs\\python\\python312\\lib\\site-packages (0.10.2.post1)\n",
      "Requirement already satisfied: audioread>=2.1.9 in c:\\users\\alisea\\appdata\\local\\programs\\python\\python312\\lib\\site-packages (from librosa) (3.0.1)\n",
      "Requirement already satisfied: numpy!=1.22.0,!=1.22.1,!=1.22.2,>=1.20.3 in c:\\users\\alisea\\appdata\\local\\programs\\python\\python312\\lib\\site-packages (from librosa) (2.0.2)\n",
      "Requirement already satisfied: scipy>=1.2.0 in c:\\users\\alisea\\appdata\\local\\programs\\python\\python312\\lib\\site-packages (from librosa) (1.13.0)\n",
      "Requirement already satisfied: scikit-learn>=0.20.0 in c:\\users\\alisea\\appdata\\local\\programs\\python\\python312\\lib\\site-packages (from librosa) (1.6.0)\n",
      "Requirement already satisfied: joblib>=0.14 in c:\\users\\alisea\\appdata\\local\\programs\\python\\python312\\lib\\site-packages (from librosa) (1.4.2)\n",
      "Requirement already satisfied: decorator>=4.3.0 in c:\\users\\alisea\\appdata\\local\\programs\\python\\python312\\lib\\site-packages (from librosa) (5.1.1)\n",
      "Requirement already satisfied: numba>=0.51.0 in c:\\users\\alisea\\appdata\\local\\programs\\python\\python312\\lib\\site-packages (from librosa) (0.60.0)\n",
      "Requirement already satisfied: soundfile>=0.12.1 in c:\\users\\alisea\\appdata\\local\\programs\\python\\python312\\lib\\site-packages (from librosa) (0.13.0)\n",
      "Requirement already satisfied: pooch>=1.1 in c:\\users\\alisea\\appdata\\local\\programs\\python\\python312\\lib\\site-packages (from librosa) (1.8.2)\n",
      "Requirement already satisfied: soxr>=0.3.2 in c:\\users\\alisea\\appdata\\local\\programs\\python\\python312\\lib\\site-packages (from librosa) (0.5.0.post1)\n",
      "Requirement already satisfied: typing-extensions>=4.1.1 in c:\\users\\alisea\\appdata\\local\\programs\\python\\python312\\lib\\site-packages (from librosa) (4.11.0)\n",
      "Requirement already satisfied: lazy-loader>=0.1 in c:\\users\\alisea\\appdata\\local\\programs\\python\\python312\\lib\\site-packages (from librosa) (0.4)\n",
      "Requirement already satisfied: msgpack>=1.0 in c:\\users\\alisea\\appdata\\local\\programs\\python\\python312\\lib\\site-packages (from librosa) (1.1.0)\n",
      "Requirement already satisfied: packaging in c:\\users\\alisea\\appdata\\local\\programs\\python\\python312\\lib\\site-packages (from lazy-loader>=0.1->librosa) (24.0)\n",
      "Requirement already satisfied: llvmlite<0.44,>=0.43.0dev0 in c:\\users\\alisea\\appdata\\local\\programs\\python\\python312\\lib\\site-packages (from numba>=0.51.0->librosa) (0.43.0)\n",
      "Requirement already satisfied: platformdirs>=2.5.0 in c:\\users\\alisea\\appdata\\local\\programs\\python\\python312\\lib\\site-packages (from pooch>=1.1->librosa) (4.2.1)\n",
      "Requirement already satisfied: requests>=2.19.0 in c:\\users\\alisea\\appdata\\local\\programs\\python\\python312\\lib\\site-packages (from pooch>=1.1->librosa) (2.31.0)\n",
      "Requirement already satisfied: threadpoolctl>=3.1.0 in c:\\users\\alisea\\appdata\\local\\programs\\python\\python312\\lib\\site-packages (from scikit-learn>=0.20.0->librosa) (3.5.0)\n",
      "Requirement already satisfied: cffi>=1.0 in c:\\users\\alisea\\appdata\\local\\programs\\python\\python312\\lib\\site-packages (from soundfile>=0.12.1->librosa) (1.16.0)\n",
      "Requirement already satisfied: pycparser in c:\\users\\alisea\\appdata\\local\\programs\\python\\python312\\lib\\site-packages (from cffi>=1.0->soundfile>=0.12.1->librosa) (2.22)\n",
      "Requirement already satisfied: charset-normalizer<4,>=2 in c:\\users\\alisea\\appdata\\local\\programs\\python\\python312\\lib\\site-packages (from requests>=2.19.0->pooch>=1.1->librosa) (3.3.2)\n",
      "Requirement already satisfied: idna<4,>=2.5 in c:\\users\\alisea\\appdata\\local\\programs\\python\\python312\\lib\\site-packages (from requests>=2.19.0->pooch>=1.1->librosa) (3.7)\n",
      "Requirement already satisfied: urllib3<3,>=1.21.1 in c:\\users\\alisea\\appdata\\local\\programs\\python\\python312\\lib\\site-packages (from requests>=2.19.0->pooch>=1.1->librosa) (2.2.1)\n",
      "Requirement already satisfied: certifi>=2017.4.17 in c:\\users\\alisea\\appdata\\local\\programs\\python\\python312\\lib\\site-packages (from requests>=2.19.0->pooch>=1.1->librosa) (2024.2.2)\n"
     ]
    },
    {
     "name": "stderr",
     "output_type": "stream",
     "text": [
      "\n",
      "[notice] A new release of pip is available: 24.0 -> 24.3.1\n",
      "[notice] To update, run: C:\\Users\\Alisea\\AppData\\Local\\Programs\\Python\\Python312\\python.exe -m pip install --upgrade pip\n"
     ]
    },
    {
     "name": "stdout",
     "output_type": "stream",
     "text": [
      "Requirement already satisfied: sounddevice in c:\\users\\alisea\\appdata\\local\\programs\\python\\python312\\lib\\site-packages (0.5.1)\n",
      "Requirement already satisfied: CFFI>=1.0 in c:\\users\\alisea\\appdata\\local\\programs\\python\\python312\\lib\\site-packages (from sounddevice) (1.16.0)\n",
      "Requirement already satisfied: pycparser in c:\\users\\alisea\\appdata\\local\\programs\\python\\python312\\lib\\site-packages (from CFFI>=1.0->sounddevice) (2.22)\n"
     ]
    },
    {
     "name": "stderr",
     "output_type": "stream",
     "text": [
      "\n",
      "[notice] A new release of pip is available: 24.0 -> 24.3.1\n",
      "[notice] To update, run: C:\\Users\\Alisea\\AppData\\Local\\Programs\\Python\\Python312\\python.exe -m pip install --upgrade pip\n"
     ]
    },
    {
     "name": "stdout",
     "output_type": "stream",
     "text": [
      "Requirement already satisfied: pydub in c:\\users\\alisea\\appdata\\local\\programs\\python\\python312\\lib\\site-packages (0.25.1)\n"
     ]
    },
    {
     "name": "stderr",
     "output_type": "stream",
     "text": [
      "\n",
      "[notice] A new release of pip is available: 24.0 -> 24.3.1\n",
      "[notice] To update, run: C:\\Users\\Alisea\\AppData\\Local\\Programs\\Python\\Python312\\python.exe -m pip install --upgrade pip\n"
     ]
    },
    {
     "name": "stdout",
     "output_type": "stream",
     "text": [
      "Requirement already satisfied: torch in c:\\users\\alisea\\appdata\\local\\programs\\python\\python312\\lib\\site-packages (2.5.1)\n",
      "Requirement already satisfied: filelock in c:\\users\\alisea\\appdata\\local\\programs\\python\\python312\\lib\\site-packages (from torch) (3.16.1)\n",
      "Requirement already satisfied: typing-extensions>=4.8.0 in c:\\users\\alisea\\appdata\\local\\programs\\python\\python312\\lib\\site-packages (from torch) (4.11.0)\n",
      "Requirement already satisfied: networkx in c:\\users\\alisea\\appdata\\local\\programs\\python\\python312\\lib\\site-packages (from torch) (3.4.2)\n",
      "Requirement already satisfied: jinja2 in c:\\users\\alisea\\appdata\\local\\programs\\python\\python312\\lib\\site-packages (from torch) (3.1.3)\n",
      "Requirement already satisfied: fsspec in c:\\users\\alisea\\appdata\\local\\programs\\python\\python312\\lib\\site-packages (from torch) (2024.12.0)\n",
      "Requirement already satisfied: setuptools in c:\\users\\alisea\\appdata\\local\\programs\\python\\python312\\lib\\site-packages (from torch) (69.5.1)\n",
      "Requirement already satisfied: sympy==1.13.1 in c:\\users\\alisea\\appdata\\local\\programs\\python\\python312\\lib\\site-packages (from torch) (1.13.1)\n",
      "Requirement already satisfied: mpmath<1.4,>=1.1.0 in c:\\users\\alisea\\appdata\\local\\programs\\python\\python312\\lib\\site-packages (from sympy==1.13.1->torch) (1.3.0)\n",
      "Requirement already satisfied: MarkupSafe>=2.0 in c:\\users\\alisea\\appdata\\local\\programs\\python\\python312\\lib\\site-packages (from jinja2->torch) (2.1.5)\n"
     ]
    },
    {
     "name": "stderr",
     "output_type": "stream",
     "text": [
      "\n",
      "[notice] A new release of pip is available: 24.0 -> 24.3.1\n",
      "[notice] To update, run: C:\\Users\\Alisea\\AppData\\Local\\Programs\\Python\\Python312\\python.exe -m pip install --upgrade pip\n"
     ]
    },
    {
     "name": "stdout",
     "output_type": "stream",
     "text": [
      "Requirement already satisfied: tensorflow in c:\\users\\alisea\\appdata\\local\\programs\\python\\python312\\lib\\site-packages (2.18.0)\n",
      "Requirement already satisfied: tensorflow-intel==2.18.0 in c:\\users\\alisea\\appdata\\local\\programs\\python\\python312\\lib\\site-packages (from tensorflow) (2.18.0)\n",
      "Requirement already satisfied: absl-py>=1.0.0 in c:\\users\\alisea\\appdata\\local\\programs\\python\\python312\\lib\\site-packages (from tensorflow-intel==2.18.0->tensorflow) (2.1.0)\n",
      "Requirement already satisfied: astunparse>=1.6.0 in c:\\users\\alisea\\appdata\\local\\programs\\python\\python312\\lib\\site-packages (from tensorflow-intel==2.18.0->tensorflow) (1.6.3)\n",
      "Requirement already satisfied: flatbuffers>=24.3.25 in c:\\users\\alisea\\appdata\\local\\programs\\python\\python312\\lib\\site-packages (from tensorflow-intel==2.18.0->tensorflow) (24.12.23)\n",
      "Requirement already satisfied: gast!=0.5.0,!=0.5.1,!=0.5.2,>=0.2.1 in c:\\users\\alisea\\appdata\\local\\programs\\python\\python312\\lib\\site-packages (from tensorflow-intel==2.18.0->tensorflow) (0.6.0)\n",
      "Requirement already satisfied: google-pasta>=0.1.1 in c:\\users\\alisea\\appdata\\local\\programs\\python\\python312\\lib\\site-packages (from tensorflow-intel==2.18.0->tensorflow) (0.2.0)\n",
      "Requirement already satisfied: libclang>=13.0.0 in c:\\users\\alisea\\appdata\\local\\programs\\python\\python312\\lib\\site-packages (from tensorflow-intel==2.18.0->tensorflow) (18.1.1)\n",
      "Requirement already satisfied: opt-einsum>=2.3.2 in c:\\users\\alisea\\appdata\\local\\programs\\python\\python312\\lib\\site-packages (from tensorflow-intel==2.18.0->tensorflow) (3.4.0)\n",
      "Requirement already satisfied: packaging in c:\\users\\alisea\\appdata\\local\\programs\\python\\python312\\lib\\site-packages (from tensorflow-intel==2.18.0->tensorflow) (24.0)\n",
      "Requirement already satisfied: protobuf!=4.21.0,!=4.21.1,!=4.21.2,!=4.21.3,!=4.21.4,!=4.21.5,<6.0.0dev,>=3.20.3 in c:\\users\\alisea\\appdata\\local\\programs\\python\\python312\\lib\\site-packages (from tensorflow-intel==2.18.0->tensorflow) (5.29.2)\n",
      "Requirement already satisfied: requests<3,>=2.21.0 in c:\\users\\alisea\\appdata\\local\\programs\\python\\python312\\lib\\site-packages (from tensorflow-intel==2.18.0->tensorflow) (2.31.0)\n",
      "Requirement already satisfied: setuptools in c:\\users\\alisea\\appdata\\local\\programs\\python\\python312\\lib\\site-packages (from tensorflow-intel==2.18.0->tensorflow) (69.5.1)\n",
      "Requirement already satisfied: six>=1.12.0 in c:\\users\\alisea\\appdata\\local\\programs\\python\\python312\\lib\\site-packages (from tensorflow-intel==2.18.0->tensorflow) (1.16.0)\n",
      "Requirement already satisfied: termcolor>=1.1.0 in c:\\users\\alisea\\appdata\\local\\programs\\python\\python312\\lib\\site-packages (from tensorflow-intel==2.18.0->tensorflow) (2.5.0)\n",
      "Requirement already satisfied: typing-extensions>=3.6.6 in c:\\users\\alisea\\appdata\\local\\programs\\python\\python312\\lib\\site-packages (from tensorflow-intel==2.18.0->tensorflow) (4.11.0)\n",
      "Requirement already satisfied: wrapt>=1.11.0 in c:\\users\\alisea\\appdata\\local\\programs\\python\\python312\\lib\\site-packages (from tensorflow-intel==2.18.0->tensorflow) (1.17.0)\n",
      "Requirement already satisfied: grpcio<2.0,>=1.24.3 in c:\\users\\alisea\\appdata\\local\\programs\\python\\python312\\lib\\site-packages (from tensorflow-intel==2.18.0->tensorflow) (1.69.0)\n",
      "Requirement already satisfied: tensorboard<2.19,>=2.18 in c:\\users\\alisea\\appdata\\local\\programs\\python\\python312\\lib\\site-packages (from tensorflow-intel==2.18.0->tensorflow) (2.18.0)\n",
      "Requirement already satisfied: keras>=3.5.0 in c:\\users\\alisea\\appdata\\local\\programs\\python\\python312\\lib\\site-packages (from tensorflow-intel==2.18.0->tensorflow) (3.8.0)\n",
      "Requirement already satisfied: numpy<2.1.0,>=1.26.0 in c:\\users\\alisea\\appdata\\local\\programs\\python\\python312\\lib\\site-packages (from tensorflow-intel==2.18.0->tensorflow) (2.0.2)\n",
      "Requirement already satisfied: h5py>=3.11.0 in c:\\users\\alisea\\appdata\\local\\programs\\python\\python312\\lib\\site-packages (from tensorflow-intel==2.18.0->tensorflow) (3.12.1)\n",
      "Requirement already satisfied: ml-dtypes<0.5.0,>=0.4.0 in c:\\users\\alisea\\appdata\\local\\programs\\python\\python312\\lib\\site-packages (from tensorflow-intel==2.18.0->tensorflow) (0.4.1)\n",
      "Requirement already satisfied: wheel<1.0,>=0.23.0 in c:\\users\\alisea\\appdata\\local\\programs\\python\\python312\\lib\\site-packages (from astunparse>=1.6.0->tensorflow-intel==2.18.0->tensorflow) (0.45.1)\n",
      "Requirement already satisfied: rich in c:\\users\\alisea\\appdata\\local\\programs\\python\\python312\\lib\\site-packages (from keras>=3.5.0->tensorflow-intel==2.18.0->tensorflow) (13.9.4)\n",
      "Requirement already satisfied: namex in c:\\users\\alisea\\appdata\\local\\programs\\python\\python312\\lib\\site-packages (from keras>=3.5.0->tensorflow-intel==2.18.0->tensorflow) (0.0.8)\n",
      "Requirement already satisfied: optree in c:\\users\\alisea\\appdata\\local\\programs\\python\\python312\\lib\\site-packages (from keras>=3.5.0->tensorflow-intel==2.18.0->tensorflow) (0.13.1)\n",
      "Requirement already satisfied: charset-normalizer<4,>=2 in c:\\users\\alisea\\appdata\\local\\programs\\python\\python312\\lib\\site-packages (from requests<3,>=2.21.0->tensorflow-intel==2.18.0->tensorflow) (3.3.2)\n",
      "Requirement already satisfied: idna<4,>=2.5 in c:\\users\\alisea\\appdata\\local\\programs\\python\\python312\\lib\\site-packages (from requests<3,>=2.21.0->tensorflow-intel==2.18.0->tensorflow) (3.7)\n",
      "Requirement already satisfied: urllib3<3,>=1.21.1 in c:\\users\\alisea\\appdata\\local\\programs\\python\\python312\\lib\\site-packages (from requests<3,>=2.21.0->tensorflow-intel==2.18.0->tensorflow) (2.2.1)\n",
      "Requirement already satisfied: certifi>=2017.4.17 in c:\\users\\alisea\\appdata\\local\\programs\\python\\python312\\lib\\site-packages (from requests<3,>=2.21.0->tensorflow-intel==2.18.0->tensorflow) (2024.2.2)\n",
      "Requirement already satisfied: markdown>=2.6.8 in c:\\users\\alisea\\appdata\\local\\programs\\python\\python312\\lib\\site-packages (from tensorboard<2.19,>=2.18->tensorflow-intel==2.18.0->tensorflow) (3.7)\n",
      "Requirement already satisfied: tensorboard-data-server<0.8.0,>=0.7.0 in c:\\users\\alisea\\appdata\\local\\programs\\python\\python312\\lib\\site-packages (from tensorboard<2.19,>=2.18->tensorflow-intel==2.18.0->tensorflow) (0.7.2)\n",
      "Requirement already satisfied: werkzeug>=1.0.1 in c:\\users\\alisea\\appdata\\local\\programs\\python\\python312\\lib\\site-packages (from tensorboard<2.19,>=2.18->tensorflow-intel==2.18.0->tensorflow) (3.0.3)\n",
      "Requirement already satisfied: MarkupSafe>=2.1.1 in c:\\users\\alisea\\appdata\\local\\programs\\python\\python312\\lib\\site-packages (from werkzeug>=1.0.1->tensorboard<2.19,>=2.18->tensorflow-intel==2.18.0->tensorflow) (2.1.5)\n",
      "Requirement already satisfied: markdown-it-py>=2.2.0 in c:\\users\\alisea\\appdata\\local\\programs\\python\\python312\\lib\\site-packages (from rich->keras>=3.5.0->tensorflow-intel==2.18.0->tensorflow) (3.0.0)\n",
      "Requirement already satisfied: pygments<3.0.0,>=2.13.0 in c:\\users\\alisea\\appdata\\local\\programs\\python\\python312\\lib\\site-packages (from rich->keras>=3.5.0->tensorflow-intel==2.18.0->tensorflow) (2.17.2)\n",
      "Requirement already satisfied: mdurl~=0.1 in c:\\users\\alisea\\appdata\\local\\programs\\python\\python312\\lib\\site-packages (from markdown-it-py>=2.2.0->rich->keras>=3.5.0->tensorflow-intel==2.18.0->tensorflow) (0.1.2)\n"
     ]
    },
    {
     "name": "stderr",
     "output_type": "stream",
     "text": [
      "\n",
      "[notice] A new release of pip is available: 24.0 -> 24.3.1\n",
      "[notice] To update, run: C:\\Users\\Alisea\\AppData\\Local\\Programs\\Python\\Python312\\python.exe -m pip install --upgrade pip\n"
     ]
    },
    {
     "name": "stdout",
     "output_type": "stream",
     "text": [
      "Requirement already satisfied: matplotlib in c:\\users\\alisea\\appdata\\local\\programs\\python\\python312\\lib\\site-packages (3.10.0)\n",
      "Requirement already satisfied: contourpy>=1.0.1 in c:\\users\\alisea\\appdata\\local\\programs\\python\\python312\\lib\\site-packages (from matplotlib) (1.3.1)\n",
      "Requirement already satisfied: cycler>=0.10 in c:\\users\\alisea\\appdata\\local\\programs\\python\\python312\\lib\\site-packages (from matplotlib) (0.12.1)\n",
      "Requirement already satisfied: fonttools>=4.22.0 in c:\\users\\alisea\\appdata\\local\\programs\\python\\python312\\lib\\site-packages (from matplotlib) (4.55.3)\n",
      "Requirement already satisfied: kiwisolver>=1.3.1 in c:\\users\\alisea\\appdata\\local\\programs\\python\\python312\\lib\\site-packages (from matplotlib) (1.4.8)\n",
      "Requirement already satisfied: numpy>=1.23 in c:\\users\\alisea\\appdata\\local\\programs\\python\\python312\\lib\\site-packages (from matplotlib) (2.0.2)\n",
      "Requirement already satisfied: packaging>=20.0 in c:\\users\\alisea\\appdata\\local\\programs\\python\\python312\\lib\\site-packages (from matplotlib) (24.0)\n",
      "Requirement already satisfied: pillow>=8 in c:\\users\\alisea\\appdata\\local\\programs\\python\\python312\\lib\\site-packages (from matplotlib) (10.3.0)\n",
      "Requirement already satisfied: pyparsing>=2.3.1 in c:\\users\\alisea\\appdata\\local\\programs\\python\\python312\\lib\\site-packages (from matplotlib) (3.2.1)\n",
      "Requirement already satisfied: python-dateutil>=2.7 in c:\\users\\alisea\\appdata\\local\\programs\\python\\python312\\lib\\site-packages (from matplotlib) (2.9.0.post0)\n",
      "Requirement already satisfied: six>=1.5 in c:\\users\\alisea\\appdata\\local\\programs\\python\\python312\\lib\\site-packages (from python-dateutil>=2.7->matplotlib) (1.16.0)\n"
     ]
    },
    {
     "name": "stderr",
     "output_type": "stream",
     "text": [
      "\n",
      "[notice] A new release of pip is available: 24.0 -> 24.3.1\n",
      "[notice] To update, run: C:\\Users\\Alisea\\AppData\\Local\\Programs\\Python\\Python312\\python.exe -m pip install --upgrade pip\n"
     ]
    }
   ],
   "source": [
    "!pip install librosa\n",
    "!pip install sounddevice\n",
    "!pip install pydub\n",
    "!pip install torch\n",
    "!pip install tensorflow\n",
    "!pip install matplotlib"
   ]
  },
  {
   "cell_type": "markdown",
   "id": "a53b14ed-3cc2-432f-a251-8b2009e5970c",
   "metadata": {},
   "source": [
    "# LOADING DATSET\n"
   ]
  },
  {
   "cell_type": "code",
   "execution_count": 34,
   "id": "b910a24b-6c8d-4704-8d94-c668c0cf0140",
   "metadata": {},
   "outputs": [],
   "source": [
    "import os\n",
    "import torch\n",
    "import numpy as np\n",
    "import librosa\n",
    "from scipy.io import wavfile\n",
    "from scipy import fft\n",
    "import matplotlib.pyplot as plt\n",
    "import tensorflow as tf\n",
    "from tensorflow.keras.layers import Input, Conv2D, MaxPooling2D, Flatten, Dense, Dropout\n",
    "from tensorflow.keras.models import Model\n",
    "from tensorflow.keras.utils import to_categorical"
   ]
  },
  {
   "cell_type": "code",
   "execution_count": 35,
   "id": "32f1d794-aa31-4b20-8767-37041be8267b",
   "metadata": {},
   "outputs": [],
   "source": [
    "# Define paths and parameters\n",
    "DATASET_PATH = \"LA/ASVspoof2019_LA_train/flac\"\n",
    "LABEL_FILE_PATH =  \"LA/ASVspoof2019_LA_cm_protocols/ASVspoof2019.LA.cm.train.trn.txt\" \n",
    "NUM_CLASSES = 2  # Number of classes (bonafide and spoof)\n",
    "SAMPLE_RATE = 16000  # Sample rate of your audio files\n",
    "DURATION = 5  # Duration of audio clips in seconds\n",
    "N_MELS = 128  # Number of Mel frequency bins"
   ]
  },
  {
   "cell_type": "code",
   "execution_count": 3,
   "id": "da100671-6f5a-4fb9-bd91-bf341bc1d6ef",
   "metadata": {},
   "outputs": [],
   "source": [
    "labels = {}\n",
    "\n",
    "with open(LABEL_FILE_PATH, 'r') as label_file:\n",
    "    lines = label_file.readlines()\n",
    "\n",
    "for line in lines:\n",
    "    parts = line.strip().split()\n",
    "    file_name = parts[1]\n",
    "    label = 1 if parts[-1] == \"bonafide\" else 0\n",
    "    labels[file_name] = label\n",
    "\n",
    "X = []\n",
    "y = []\n",
    "\n",
    "max_time_steps = 109  # Define the maximum time steps for your model\n",
    "\n",
    "###TO CHANGE\n",
    "prova = {}\n",
    "prova_audio = []"
   ]
  },
  {
   "cell_type": "code",
   "execution_count": 4,
   "id": "4c94e392-33f5-48e5-b318-f17e8892d7c6",
   "metadata": {},
   "outputs": [
    {
     "name": "stdout",
     "output_type": "stream",
     "text": [
      "25380\n"
     ]
    }
   ],
   "source": [
    "print(len(labels.items()))"
   ]
  },
  {
   "cell_type": "code",
   "execution_count": 5,
   "id": "6c0110a4-1ae6-4af5-8ad4-c41ede4d8d24",
   "metadata": {},
   "outputs": [],
   "source": [
    "for i in range(0, len(labels.items())):\n",
    "    line = lines[i] \n",
    "    parts = line.strip().split()\n",
    "    file_name = parts[1]\n",
    "    prova[file_name] = labels[file_name] "
   ]
  },
  {
   "cell_type": "markdown",
   "id": "4b5f3afe-2f2a-4f27-90fe-71af71978f3c",
   "metadata": {},
   "source": [
    "In this cell i load the audio from the training set and put in the list prova_audio, and the labels in the list y"
   ]
  },
  {
   "cell_type": "code",
   "execution_count": 6,
   "id": "57e65757-8dc9-4c8a-a965-7696320e1248",
   "metadata": {},
   "outputs": [
    {
     "name": "stdout",
     "output_type": "stream",
     "text": [
      "we are at the 0 iteration\n",
      "we are at the 1100 iteration\n",
      "we are at the 2200 iteration\n",
      "we are at the 3300 iteration\n",
      "we are at the 4400 iteration\n"
     ]
    }
   ],
   "source": [
    "counter = 0\n",
    "file_path_list = []\n",
    "for file_name, label in prova.items():\n",
    "    file_path = os.path.join(DATASET_PATH, file_name + \".flac\")\n",
    "    file_path_list.append(file_path)\n",
    "\n",
    "    # Load audio file using librosa\n",
    "    audio, _ = librosa.load(file_path, sr=SAMPLE_RATE, duration=DURATION)\n",
    "    \n",
    "    # Extract Mel spectrogram using librosa\n",
    "    mel_spectrogram = librosa.feature.melspectrogram(y=audio, sr=SAMPLE_RATE, n_mels=N_MELS)\n",
    "    mel_spectrogram = librosa.power_to_db(mel_spectrogram, ref=np.max)\n",
    "\n",
    "    # Ensure all spectrograms have the same width (time steps)\n",
    "    if mel_spectrogram.shape[1] < max_time_steps:\n",
    "        mel_spectrogram = np.pad(mel_spectrogram, ((0, 0), (0, max_time_steps - mel_spectrogram.shape[1])), mode='constant')\n",
    "    else:\n",
    "        mel_spectrogram = mel_spectrogram[:, :max_time_steps]\n",
    "\n",
    "    # # Ensure all spectrograms have the same width (time steps)\n",
    "    # if len(audio) < max_time_steps:\n",
    "    #     audio = np.pad(audio, ((0, 0), (0, max_time_steps - len(audio))), mode='constant')\n",
    "    # else:\n",
    "    #     audio = audio[ :max_time_steps]\n",
    "    \n",
    "    if counter%(len(prova.items())/5)==0:\n",
    "        print(f'we are at the {counter} iteration')\n",
    "    counter = counter + 1\n",
    "\n",
    "    # X.append(mel_spectrogram)\n",
    "    prova_audio.append(audio)\n",
    "    y.append(label)\n"
   ]
  },
  {
   "cell_type": "markdown",
   "id": "2deff1c9-bc1b-487b-94d7-e26a2262a49e",
   "metadata": {},
   "source": [
    "# PREPROCESSING OF SIGNAL"
   ]
  },
  {
   "cell_type": "markdown",
   "id": "4fcb52fc-4130-41be-9963-05e6e7fc0b21",
   "metadata": {},
   "source": [
    "## Function to plot the audio"
   ]
  },
  {
   "cell_type": "markdown",
   "id": "0f987d6e-189d-4712-9d0e-34648d854344",
   "metadata": {
    "jp-MarkdownHeadingCollapsed": true
   },
   "source": [
    "### Spectogram"
   ]
  },
  {
   "cell_type": "code",
   "execution_count": 11,
   "id": "a5c66d89-736a-4c76-b949-7312391658d8",
   "metadata": {},
   "outputs": [],
   "source": [
    "def plot_spect_from_sig_time(data, rate, n=250):    \n",
    "    # Spectrogram estimation:\n",
    "    N = n\n",
    "    S = []\n",
    "    for k in range(0, data.shape[0]+1, N):\n",
    "        x = fft.fftshift(fft.fft(data[k:k+N], n=N))[N//2:N]\n",
    "        # assert np.allclose(np.imag(x*np.conj(x)), 0)\n",
    "        Pxx = 10*np.log10(np.real(x*np.conj(x)))\n",
    "        S.append(Pxx)\n",
    "    S = np.array(S)\n",
    "    \n",
    "    # Frequencies:\n",
    "    f = fft.fftshift(fft.fftfreq(N, d=1/rate))[N//2:N]\n",
    "    \n",
    "    # Spectrogram rendering:\n",
    "    plt.imshow(S.T, origin='lower')"
   ]
  },
  {
   "cell_type": "markdown",
   "id": "fce034c9-b64c-4b26-b08c-dc2657045e28",
   "metadata": {},
   "source": [
    "### plot audio in time"
   ]
  },
  {
   "cell_type": "code",
   "execution_count": 7,
   "id": "6e63e2f1-bc1d-4592-89c8-75d02a984e53",
   "metadata": {},
   "outputs": [],
   "source": [
    "# prompt: a defintiizion that plot the audio\n",
    "\n",
    "import librosa\n",
    "import os\n",
    "import matplotlib.pyplot as plt\n",
    "import librosa.display\n",
    "import numpy as np\n",
    "from IPython.display import display, Audio\n",
    "\n",
    "# ... (rest of the code from the previous response) ...\n",
    "\n",
    "def listen_to_audio(y, sr):\n",
    "    \"\"\"Plays the audio file.\"\"\"\n",
    "    display(Audio(y, rate=sr))\n",
    "\n",
    "def plot_audio(y, sr):\n",
    "  \"\"\"Plots the waveform and spectrogram of an audio signal.\n",
    "\n",
    "  Args:\n",
    "      y: The audio time series.\n",
    "      sr: The sampling rate of y.\n",
    "  \"\"\"\n",
    "  plt.figure(figsize=(12, 6))\n",
    "\n",
    "  # Plot the waveform\n",
    "  plt.subplot(2, 1, 1)\n",
    "  librosa.display.waveshow(y, sr=sr)\n",
    "  plt.title(\"Waveform\")\n",
    "\n",
    "  # # Plot the spectrogram\n",
    "  # plt.subplot(2, 1, 2)\n",
    "  # D = librosa.amplitude_to_db(librosa.stft(y), ref=np.max)\n",
    "  # librosa.display.specshow(D, sr=sr, x_axis='time', y_axis='log')\n",
    "  # plt.colorbar(format='%+2.0f dB')\n",
    "  # plt.title('Spectrogram')\n",
    "\n",
    "  plt.tight_layout()\n",
    "  plt.show()\n",
    "\n"
   ]
  },
  {
   "cell_type": "markdown",
   "id": "249d1a1f-5008-4b4f-8e6e-522c6653aa3c",
   "metadata": {},
   "source": [
    "### The function to get the silence"
   ]
  },
  {
   "cell_type": "code",
   "execution_count": null,
   "id": "8b44a5c6-e81b-44b7-962f-971480648aee",
   "metadata": {},
   "outputs": [],
   "source": [
    "import numpy as np\n",
    "import matplotlib.pyplot as plt\n",
    "from scipy.ndimage import uniform_filter1d\n",
    "\n",
    "def custom_waveshow(y, sr=22050, max_points=11025, axis='time', offset=0.0, **kwargs):\n",
    "    \"\"\"\n",
    "    Custom implementation of librosa.display.waveshow.\n",
    "    \n",
    "    Parameters:\n",
    "    - y (ndarray): The audio signal (1D array).\n",
    "    - sr (int): Sampling rate of the signal (default is 22050 Hz).\n",
    "    - max_points (int): Maximum number of points for sample-based view (default is 11025 points).\n",
    "    - axis (str): Units for the x-axis ('time' for seconds) (default is 'time').\n",
    "    - offset (float): Offset start time for the waveform (default is 0.0).\n",
    "    - **kwargs: Additional keyword arguments for matplotlib plotting.\n",
    "    \n",
    "    Returns:\n",
    "    - None\n",
    "    \"\"\"\n",
    "    \n",
    "    # Initialize the envelope variable\n",
    "    envelope = 0\n",
    "    \n",
    "    # Determine the total duration of the audio in seconds\n",
    "    duration = len(y) / sr  # Length of the signal divided by sampling rate\n",
    "    \n",
    "    # Generate the time axis based on the signal length and the sampling rate\n",
    "    time = np.arange(len(y)) / sr + offset\n",
    "\n",
    "    # Adaptive rendering based on the total duration of the audio\n",
    "    if duration <= max_points / sr:\n",
    "        # If the duration is shorter, plot the waveform with a sample-based view\n",
    "        plt.step(time, y, where=\"post\", **kwargs)  # Step plot for waveform\n",
    "    else:\n",
    "        # If the audio is too long, downsample the signal for an amplitude envelope plot\n",
    "        downsample_factor = max(1, len(y) // max_points)  # Calculate the factor to downsample the signal\n",
    "        \n",
    "        # Compute the amplitude envelope of the audio signal using a uniform filter\n",
    "        envelope = uniform_filter1d(np.abs(y), size=downsample_factor)\n",
    "        envelope_time = time[::downsample_factor]  # Create a time axis for the downsampled points\n",
    "\n",
    "        # Prepare to plot the amplitude envelope\n",
    "        fill_between_kwargs = kwargs.copy()  # Make a copy of the provided keyword arguments\n",
    "        fill_between_kwargs.pop('alpha', None)  # Remove the 'alpha' key from kwargs to avoid conflict\n",
    "        \n",
    "        # Plot the amplitude envelope (this part is commented out for now)\n",
    "        # plt.fill_between(\n",
    "        #     envelope_time,  # Time for the downsampled points\n",
    "        #     envelope,  # Amplitude envelope values\n",
    "        #     -envelope,  # Negative values for the bottom part of the envelope\n",
    "        #     alpha=0.6,  # Set transparency\n",
    "        #     **fill_between_kwargs  # Pass the modified kwargs\n",
    "        # )\n",
    "    \n",
    "    # Return the computed amplitude envelope (optional)\n",
    "    return envelope\n"
   ]
  },
  {
   "cell_type": "code",
   "execution_count": 8,
   "id": "1e1e8dc1-9d71-48b0-ad3e-f51d1851eb68",
   "metadata": {},
   "outputs": [],
   "source": [
    "def extract_silence_from_audio(y, sr, threshold):\n",
    "    \"\"\"\n",
    "    Extract the silence parts from the audio signal where the amplitude is lower than a given threshold.\n",
    "    \n",
    "    Parameters:\n",
    "    - y (ndarray): The audio signal (1D array).\n",
    "    - sr (int): Sampling rate of the signal.\n",
    "    - threshold (float): Amplitude threshold for detecting silence.\n",
    "    \n",
    "    Returns:\n",
    "    - C (ndarray): The silence portion of the signal (amplitude values lower than threshold).\n",
    "    \"\"\"\n",
    "    \n",
    "    # Get the amplitude envelope by calling custom_waveshow (it computes and returns the envelope)\n",
    "    amplitude = custom_waveshow(y, sr=sr, max_points=11025, color=\"blue\", alpha=0.8)\n",
    "    \n",
    "    # Initialize a temporary variable to hold the amplitude values\n",
    "    tmp = amplitude\n",
    "    \n",
    "    # Create an array to store the silence values (set initially to zero)\n",
    "    sil = np.zeros(len(tmp))\n",
    "    \n",
    "    # Counter variable to track the index of silence values\n",
    "    counter = 0\n",
    "    \n",
    "    # Loop through the amplitude values to detect silence\n",
    "    for i in range(0, len(tmp)):\n",
    "        if tmp[i] < threshold:\n",
    "            # If the amplitude is below the threshold, mark it as silence\n",
    "            sil[counter] = tmp[i]\n",
    "            counter += 1\n",
    "    \n",
    "    # Return the silence portion of the signal (sliced to the valid silence data)\n",
    "    C = sil[:counter]\n",
    "    return C\n"
   ]
  },
  {
   "cell_type": "markdown",
   "id": "316ccaba-42ab-4aaa-a8cd-251b3e7c2a72",
   "metadata": {},
   "source": [
    "# Preparing the X_train"
   ]
  },
  {
   "cell_type": "code",
   "execution_count": 21,
   "id": "a5f49bfd-418b-49be-ad8f-0150b40b7865",
   "metadata": {},
   "outputs": [
    {
     "name": "stdout",
     "output_type": "stream",
     "text": [
      "we are at iteration 0\n",
      "we are at iteration 500\n",
      "we are at iteration 1000\n",
      "we are at iteration 1500\n",
      "we are at iteration 2000\n",
      "we are at iteration 2500\n",
      "Error: object of type 'int' has no len()\n",
      "2601\n",
      "Error: object of type 'int' has no len()\n",
      "2782\n",
      "we are at iteration 3000\n",
      "we are at iteration 3500\n",
      "we are at iteration 4000\n",
      "we are at iteration 4500\n",
      "we are at iteration 5000\n",
      "here\n",
      "6165\n"
     ]
    },
    {
     "data": {
      "image/png": "[encoded data removed]",
      "text/plain": [
       "<Figure size 640x480 with 1 Axes>"
      ]
     },
     "metadata": {},
     "output_type": "display_data"
    }
   ],
   "source": [
    "import numpy as np\n",
    "\n",
    "# Initialize variables\n",
    "X = []\n",
    "cut_value = []\n",
    "min_length = 500000  # Initialize with a very large value\n",
    "count = 0\n",
    "\n",
    "# Process each audio file\n",
    "for audio in prova_audio:\n",
    "    try:\n",
    "        # Print progress every 500 iterations\n",
    "        if count % 500 == 0:\n",
    "            print(f'We are at iteration {count}')\n",
    "        \n",
    "        # Extract silence from audio\n",
    "        silence = extract_silence_from_audio(audio, SAMPLE_RATE, 0.1)\n",
    "        \n",
    "        # Update the minimum length of silence\n",
    "        if len(silence) < min_length:\n",
    "            min_length = len(silence)\n",
    "        \n",
    "        # Append the silence segment to X\n",
    "        X.append(silence)\n",
    "        \n",
    "        # Increment count\n",
    "        count += 1\n",
    "        \n",
    "    except TypeError as e:\n",
    "        print(f\"Error: {e}\")\n",
    "        \n",
    "        # Track the audio index that caused the error\n",
    "        cut_value.append(count)\n",
    "        print(f\"Error at iteration {count}\")\n",
    "\n",
    "# Padding and trimming the extracted silence segments\n",
    "print('Padding and trimming...')\n",
    "for idx, silence in enumerate(X):\n",
    "    if len(silence) > min_length:\n",
    "        # Truncate silence segments that are too long\n",
    "        X[idx] = silence[:min_length]\n",
    "    else:\n",
    "        # Pad silence segments that are too short\n",
    "        X[idx] = np.pad(silence, (0, min_length - len(silence)), mode='constant')\n",
    "\n",
    "# Removing problematic entries from the `y` list based on cut_value indices\n",
    "for i in range(len(cut_value) - 1, -1, -1):\n",
    "    y.remove(y[cut_value[i]])\n",
    "\n",
    "# Print the minimum silence segment length\n",
    "print(f'Minimum silence segment length: {min_length}')\n"
   ]
  },
  {
   "cell_type": "code",
   "execution_count": 36,
   "id": "fdd64613-c50e-492b-bb32-4479ed0816fa",
   "metadata": {},
   "outputs": [
    {
     "name": "stdout",
     "output_type": "stream",
     "text": [
      "5498\n",
      "5498\n"
     ]
    }
   ],
   "source": [
    "print(len(X))\n",
    "print(len(y))\n",
    "X = np.array(X)\n",
    "y = np.array(y)\n"
   ]
  },
  {
   "cell_type": "markdown",
   "id": "70b184d5-3d5c-4636-a7aa-04f70665f476",
   "metadata": {},
   "source": [
    "# Definition and training of the model"
   ]
  },
  {
   "cell_type": "code",
   "execution_count": 37,
   "id": "f19a41fa-9c79-415d-848f-80bb09423f32",
   "metadata": {},
   "outputs": [
    {
     "name": "stdout",
     "output_type": "stream",
     "text": [
      "Epoch [1/10], Loss: 0.4329, Accuracy: 0.8829\n",
      "Confusion Matrix:\n",
      "[[2716  202]\n",
      " [ 442 2138]]\n",
      "\n",
      "Epoch [2/10], Loss: 0.3167, Accuracy: 0.9976\n",
      "Confusion Matrix:\n",
      "[[2913    5]\n",
      " [   8 2572]]\n",
      "\n",
      "Epoch [3/10], Loss: 0.3159, Accuracy: 0.9978\n",
      "Confusion Matrix:\n",
      "[[2914    4]\n",
      " [   8 2572]]\n",
      "\n",
      "Epoch [4/10], Loss: 0.3346, Accuracy: 0.9776\n",
      "Confusion Matrix:\n",
      "[[2821   97]\n",
      " [  26 2554]]\n",
      "\n",
      "Epoch [5/10], Loss: 0.3151, Accuracy: 0.9982\n",
      "Confusion Matrix:\n",
      "[[2916    2]\n",
      " [   8 2572]]\n",
      "\n",
      "Epoch [6/10], Loss: 0.3147, Accuracy: 0.9987\n",
      "Confusion Matrix:\n",
      "[[2918    0]\n",
      " [   7 2573]]\n",
      "\n",
      "Epoch [7/10], Loss: 0.3146, Accuracy: 0.9987\n",
      "Confusion Matrix:\n",
      "[[2918    0]\n",
      " [   7 2573]]\n",
      "\n",
      "Epoch [8/10], Loss: 0.3145, Accuracy: 0.9987\n",
      "Confusion Matrix:\n",
      "[[2918    0]\n",
      " [   7 2573]]\n",
      "\n",
      "Epoch [9/10], Loss: 0.3145, Accuracy: 0.9987\n",
      "Confusion Matrix:\n",
      "[[2918    0]\n",
      " [   7 2573]]\n",
      "\n",
      "Epoch [10/10], Loss: 0.3145, Accuracy: 0.9987\n",
      "Confusion Matrix:\n",
      "[[2918    0]\n",
      " [   7 2573]]\n",
      "\n"
     ]
    }
   ],
   "source": [
    "import torch\n",
    "import torch.nn as nn\n",
    "import torch.optim as optim\n",
    "from torch.utils.data import DataLoader, TensorDataset\n",
    "from sklearn.metrics import accuracy_score, confusion_matrix\n",
    "\n",
    "# Define 1D CNN for Silent Amplitude Analysis\n",
    "class SilenceAnalysisCNN1D(nn.Module):\n",
    "    def __init__(self, input_channels, sequence_length, num_classes):\n",
    "        super(SilenceAnalysisCNN1D, self).__init__()\n",
    "        \n",
    "        # Convolutional layers\n",
    "        self.conv1 = nn.Conv1d(input_channels, 16, kernel_size=3, stride=1, padding=1)\n",
    "        self.conv2 = nn.Conv1d(16, 32, kernel_size=3, stride=1, padding=1)\n",
    "        self.conv3 = nn.Conv1d(32, 64, kernel_size=3, stride=1, padding=1)\n",
    "\n",
    "        # Pooling layer\n",
    "        self.pool = nn.MaxPool1d(kernel_size=2, stride=2)\n",
    "\n",
    "        # Calculate the size of the flattened feature map\n",
    "        self.flattened_size = (sequence_length // 8) * 64\n",
    "\n",
    "        # Fully connected layers\n",
    "        self.fc1 = nn.Linear(self.flattened_size, 128)\n",
    "        self.fc2 = nn.Linear(128, num_classes)\n",
    "\n",
    "        # Activation functions\n",
    "        self.relu = nn.ReLU()\n",
    "        self.softmax = nn.Softmax(dim=1)\n",
    "\n",
    "    def forward(self, x):\n",
    "        # Pass through convolutional layers + ReLU + pooling\n",
    "        x = self.pool(self.relu(self.conv1(x)))\n",
    "        x = self.pool(self.relu(self.conv2(x)))\n",
    "        x = self.pool(self.relu(self.conv3(x)))\n",
    "\n",
    "        # Flatten the feature map\n",
    "        x = x.view(x.size(0), -1)\n",
    "\n",
    "        # Pass through fully connected layers\n",
    "        x = self.relu(self.fc1(x))\n",
    "        x = self.fc2(x)\n",
    "        x = self.softmax(x)\n",
    "\n",
    "        return x\n",
    "\n",
    "# Hyperparameters\n",
    "input_channels = 1    # Single channel (amplitude)\n",
    "sequence_length = min # Length of silent amplitude sequence\n",
    "num_classes = 2        # Number of classes (real or fake)\n",
    "learning_rate = 0.001\n",
    "batch_size = 32\n",
    "epochs = 10\n",
    "\n",
    "# Reshape input data to [Batch_Size, Channels, Sequence_Length]\n",
    "\n",
    "X_tensor = torch.tensor(X, dtype=torch.float32).view(-1, 1, sequence_length)\n",
    "y_tensor = torch.tensor(y, dtype=torch.long)\n",
    "\n",
    "# Create DataLoader\n",
    "dataset = TensorDataset(X_tensor, y_tensor)\n",
    "data_loader = DataLoader(dataset, batch_size=batch_size, shuffle=True)\n",
    "\n",
    "# Initialize model, loss function, and optimizer\n",
    "model = SilenceAnalysisCNN1D(input_channels, sequence_length, num_classes)\n",
    "criterion = nn.CrossEntropyLoss()\n",
    "optimizer = optim.Adam(model.parameters(), lr=learning_rate)\n",
    "\n",
    "# Training loop\n",
    "for epoch in range(epochs):\n",
    "    model.train()\n",
    "    epoch_loss = 0\n",
    "    all_preds = []\n",
    "    all_targets = []\n",
    "\n",
    "    for batch_X, batch_y in data_loader:\n",
    "        # Forward pass\n",
    "        outputs = model(batch_X)\n",
    "        loss = criterion(outputs, batch_y)\n",
    "\n",
    "        # Backward pass and optimization\n",
    "        optimizer.zero_grad()\n",
    "        loss.backward()\n",
    "        optimizer.step()\n",
    "\n",
    "        # Accumulate loss\n",
    "        epoch_loss += loss.item()\n",
    "\n",
    "        # Store predictions for metrics\n",
    "        _, predicted = torch.max(outputs, 1)\n",
    "        all_preds.extend(predicted.numpy())\n",
    "        all_targets.extend(batch_y.numpy())\n",
    "\n",
    "    # Compute metrics\n",
    "    accuracy = accuracy_score(all_targets, all_preds)\n",
    "    cm = confusion_matrix(all_targets, all_preds)\n",
    "\n",
    "    # Print epoch metrics\n",
    "    print(f\"Epoch [{epoch+1}/{epochs}], Loss: {epoch_loss/len(data_loader):.4f}, Accuracy: {accuracy:.4f}\")\n",
    "    print(f\"Confusion Matrix:\\n{cm}\\n\")\n"
   ]
  },
  {
   "cell_type": "code",
   "execution_count": 38,
   "id": "87caee45-aad3-47e6-bbca-88a8a5251421",
   "metadata": {},
   "outputs": [
    {
     "name": "stdout",
     "output_type": "stream",
     "text": [
      "Model state dictionary saved.\n"
     ]
    }
   ],
   "source": [
    "# Save the state dictionary\n",
    "torch.save(model.state_dict(), \"silence_detection_cnn.pth\")\n",
    "print(\"Model state dictionary saved.\")\n"
   ]
  },
  {
   "cell_type": "markdown",
   "id": "c3987983-e287-412a-96a2-c7b1b29bcd71",
   "metadata": {},
   "source": [
    "# Loading the test set to perform the evaluation"
   ]
  },
  {
   "cell_type": "code",
   "execution_count": 63,
   "id": "01ea8dba-b73c-44a7-b97f-412b270d8872",
   "metadata": {},
   "outputs": [],
   "source": [
    "# Load the model and preprocess test data (similar to training data preprocessing)\n",
    "import os\n",
    "import numpy as np\n",
    "import librosa\n",
    "import tensorflow as tf\n",
    "from tensorflow.keras.models import load_model\n",
    "\n",
    "# Define paths and parameters\n",
    "TEST_DATASET_PATH = \"LA/ASVspoof2019_LA_eval/flac\"\n",
    "MODEL_PATH = \"silence_analysis_cnn.pth\"  # Replace with the actual path to your saved model\n",
    "SAMPLE_RATE = 16000"
   ]
  },
  {
   "cell_type": "code",
   "execution_count": 41,
   "id": "203c5481-9f0a-4ab1-9ca4-838061a39805",
   "metadata": {},
   "outputs": [
    {
     "name": "stdout",
     "output_type": "stream",
     "text": [
      "Model state dictionary loaded.\n"
     ]
    }
   ],
   "source": [
    "import torch\n",
    "# Instantiate the model architecture\n",
    "model = SilenceAnalysisCNN1D(input_channels, sequence_length, num_classes)\n",
    "\n",
    "# Load the saved state dictionary into the model\n",
    "model.load_state_dict(torch.load(\"silence_detection_cnn.pth\", weights_only=True))\n",
    "\n",
    "print(\"Model state dictionary loaded.\")\n"
   ]
  },
  {
   "cell_type": "code",
   "execution_count": 64,
   "id": "3d0ff973-2536-4a55-bad2-0f7edd4e07e9",
   "metadata": {},
   "outputs": [
    {
     "name": "stdout",
     "output_type": "stream",
     "text": [
      "we are at iteration 0\n",
      "we are at iteration 500\n",
      "we are at iteration 1000\n",
      "we are at iteration 1500\n",
      "we are at iteration 2000\n",
      "we are at iteration 2500\n",
      "Error: object of type 'int' has no len()\n",
      "2601\n",
      "Error: object of type 'int' has no len()\n",
      "2782\n",
      "we are at iteration 3000\n",
      "we are at iteration 3500\n",
      "we are at iteration 4000\n",
      "we are at iteration 4500\n",
      "we are at iteration 5000\n",
      "we are at iteration 5500\n",
      "we are at iteration 6000\n",
      "we are at iteration 6500\n"
     ]
    },
    {
     "ename": "KeyboardInterrupt",
     "evalue": "",
     "output_type": "error",
     "traceback": [
      "\u001b[1;31m---------------------------------------------------------------------------\u001b[0m",
      "\u001b[1;31mKeyboardInterrupt\u001b[0m                         Traceback (most recent call last)",
      "Cell \u001b[1;32mIn[64], line 18\u001b[0m\n\u001b[0;32m     16\u001b[0m \u001b[38;5;28;01mif\u001b[39;00m count\u001b[38;5;241m%\u001b[39m\u001b[38;5;241m500\u001b[39m \u001b[38;5;241m==\u001b[39m \u001b[38;5;241m0\u001b[39m:\n\u001b[0;32m     17\u001b[0m     \u001b[38;5;28mprint\u001b[39m(\u001b[38;5;124mf\u001b[39m\u001b[38;5;124m'\u001b[39m\u001b[38;5;124mwe are at iteration \u001b[39m\u001b[38;5;132;01m{\u001b[39;00mcount\u001b[38;5;132;01m}\u001b[39;00m\u001b[38;5;124m'\u001b[39m)\n\u001b[1;32m---> 18\u001b[0m silence \u001b[38;5;241m=\u001b[39m \u001b[43mextract_silence_from_audio\u001b[49m\u001b[43m(\u001b[49m\u001b[43maudio\u001b[49m\u001b[43m,\u001b[49m\u001b[43m \u001b[49m\u001b[43mSAMPLE_RATE\u001b[49m\u001b[43m,\u001b[49m\u001b[43m \u001b[49m\u001b[38;5;241;43m0.1\u001b[39;49m\u001b[43m)\u001b[49m\n\u001b[0;32m     19\u001b[0m \u001b[38;5;28;01mif\u001b[39;00m \u001b[38;5;28mlen\u001b[39m(silence) \u001b[38;5;241m<\u001b[39m \u001b[38;5;28mmin\u001b[39m:\n\u001b[0;32m     20\u001b[0m     \u001b[38;5;28mmin\u001b[39m \u001b[38;5;241m=\u001b[39m \u001b[38;5;28mlen\u001b[39m(silence)\n",
      "Cell \u001b[1;32mIn[8], line 76\u001b[0m, in \u001b[0;36mextract_silence_from_audio\u001b[1;34m(y, sr, threshold)\u001b[0m\n\u001b[0;32m     74\u001b[0m   \u001b[38;5;28;01mif\u001b[39;00m tmp[i] \u001b[38;5;241m<\u001b[39m threshold:\n\u001b[0;32m     75\u001b[0m     sil[counter] \u001b[38;5;241m=\u001b[39m tmp[i]\n\u001b[1;32m---> 76\u001b[0m     counter \u001b[38;5;241m=\u001b[39m counter \u001b[38;5;241m+\u001b[39m \u001b[38;5;241m1\u001b[39m\n\u001b[0;32m     77\u001b[0m C \u001b[38;5;241m=\u001b[39m sil[:counter]\n\u001b[0;32m     78\u001b[0m \u001b[38;5;28;01mreturn\u001b[39;00m C\n",
      "\u001b[1;31mKeyboardInterrupt\u001b[0m: "
     ]
    },
    {
     "data": {
      "image/png": "[encoded data removed]",
      "text/plain": [
       "<Figure size 640x480 with 1 Axes>"
      ]
     },
     "metadata": {},
     "output_type": "display_data"
    }
   ],
   "source": [
    "import os\n",
    "import librosa\n",
    "import numpy as np\n",
    "\n",
    "# Initialize variables for storing test data\n",
    "X_test = []\n",
    "cut_value = []\n",
    "min_length = 500000  # Initialize with a large value\n",
    "count = 0\n",
    "\n",
    "# Define constants (ensure these are correctly set)\n",
    "SAMPLE_RATE = 22050  # The sample rate of the audio\n",
    "DURATION = 30  # Duration in seconds to load from each audio file\n",
    "TEST_DATASET_PATH = \"path_to_test_data\"  # Replace with the actual path to the test dataset\n",
    "\n",
    "# List all files in the test dataset directory\n",
    "test_files = os.listdir(TEST_DATASET_PATH)\n",
    "\n",
    "# Loop through the test files for processing\n",
    "for file_name in test_files[]:\n",
    "    file_path = os.path.join(TEST_DATASET_PATH, file_name)\n",
    "\n",
    "    # Load audio file using librosa\n",
    "    audio, _ = librosa.load(file_path, sr=SAMPLE_RATE, duration=DURATION)\n",
    "    \n",
    "    try:\n",
    "        # Extract silence from the loaded audio file\n",
    "        silence = extract_silence_from_audio(audio, SAMPLE_RATE, threshold=0.1)\n",
    "        \n",
    "        # Update the minimum silence length\n",
    "        if len(silence) < min_length:\n",
    "            min_length = len(silence)\n",
    "        \n",
    "        # Append the silence data to X_test\n",
    "        X_test.append(silence)\n",
    "        \n",
    "        # Increment count\n",
    "        count += 1\n",
    "\n",
    "        # Print progress for every 500 files\n",
    "        if count % 500 == 0:\n",
    "            print(f'We are at iteration {count}')\n",
    "    \n",
    "    except TypeError as e:\n",
    "        print(f\"Error processing file {file_name}: {e}\")\n",
    "        cut_value.append(count)  # Store the index of problematic file\n",
    "        print(f\"Error at index {count} for file {file_name}\")\n",
    "\n",
    "# Padding and trimming the extracted silence segments\n",
    "print('Padding and trimming...')\n",
    "for idx, silence in enumerate(X_test):\n",
    "    if len(silence) > min_length:\n",
    "        # Truncate silence segments that are too long\n",
    "        X_test[idx] = silence[:min_length]\n",
    "    else:\n",
    "        # Pad silence segments that are too short\n",
    "        X_test[idx] = np.pad(silence, (0, min_length - len(silence)), mode='constant')\n",
    "\n",
    "# Print the minimum silence segment length\n",
    "print(f'Minimum silence segment length: {min_length}')\n",
    "\n",
    "# Convert the list to a numpy array\n",
    "X_test = np.array(X_test)\n",
    "\n",
    "# Optionally, you could also save or process X_test further for model inference\n"
   ]
  },
  {
   "cell_type": "code",
   "execution_count": 65,
   "id": "53df5885-547d-4ecf-bf0f-307f8fe9e499",
   "metadata": {},
   "outputs": [],
   "source": [
    "# Path to the ASVspoof 2019 protocol file\n",
    "PROTOCOL_FILE_PATH =  \"LA/ASVspoof2019_LA_cm_protocols/ASVspoof2019.LA.cm.eval.trl\"\n",
    "\n",
    "labels = {}\n",
    "\n",
    "with open(LABEL_FILE_PATH, 'r') as label_file:\n",
    "    lines = label_file.readlines()\n",
    "\n",
    "for line in lines:\n",
    "    parts = line.strip().split()\n",
    "    file_name = parts[1]\n",
    "    label = 1 if parts[-1] == \"bonafide\" else 0\n",
    "    labels[file_name] = label\n",
    "\n",
    "true_labels = []\n",
    "for _, label in labels.items():\n",
    "    true_labels.append(label)\n"
   ]
  },
  {
   "cell_type": "code",
   "execution_count": 66,
   "id": "eacf5286-354f-4f82-95ff-453c9b0d4005",
   "metadata": {},
   "outputs": [
    {
     "name": "stdout",
     "output_type": "stream",
     "text": [
      "6165\n"
     ]
    }
   ],
   "source": [
    "true_labels = true_labels[:len(X_test)]\n",
    "for i in range(len(cut_value)-1, -1, -1):\n",
    "    true_labels.remove(true_labels[cut_value[i]])"
   ]
  },
  {
   "cell_type": "code",
   "execution_count": 70,
   "id": "5a535659-be44-4339-8c49-6f768ffe1b82",
   "metadata": {},
   "outputs": [
    {
     "name": "stdout",
     "output_type": "stream",
     "text": [
      "Shape of padded X_test: (6531, 48103)\n"
     ]
    }
   ],
   "source": [
    "from keras.preprocessing.sequence import pad_sequences\n",
    "\n",
    "# Define the expected sequence length\n",
    "sequence_length = 48103\n",
    "\n",
    "# Pad or truncate sequences in X_test to match the expected sequence length\n",
    "X_test_padded = pad_sequences(X_test, maxlen=sequence_length, padding='post', truncating='post')\n",
    "\n",
    "# Now the sequences in X_test_padded will all have the same length (48103)\n",
    "print(f\"Shape of padded X_test: {X_test_padded.shape}\")\n"
   ]
  },
  {
   "cell_type": "code",
   "execution_count": 73,
   "id": "f04ac3e4-52df-4a9f-a848-b7f7f43c817c",
   "metadata": {},
   "outputs": [
    {
     "ename": "RuntimeError",
     "evalue": "[enforce fail at alloc_cpu.cpp:114] data. DefaultCPUAllocator: not enough memory: you tried to allocate 20106284352 bytes.",
     "output_type": "error",
     "traceback": [
      "\u001b[1;31m---------------------------------------------------------------------------\u001b[0m",
      "\u001b[1;31mRuntimeError\u001b[0m                              Traceback (most recent call last)",
      "Cell \u001b[1;32mIn[73], line 11\u001b[0m\n\u001b[0;32m      8\u001b[0m \u001b[38;5;66;03m# Forward pass through the model\u001b[39;00m\n\u001b[0;32m     10\u001b[0m \u001b[38;5;28;01mwith\u001b[39;00m torch\u001b[38;5;241m.\u001b[39mno_grad():  \u001b[38;5;66;03m# Disable gradient computation\u001b[39;00m\n\u001b[1;32m---> 11\u001b[0m     outputs \u001b[38;5;241m=\u001b[39m \u001b[43mmodel\u001b[49m\u001b[43m(\u001b[49m\u001b[43mX_test_tensor\u001b[49m\u001b[43m)\u001b[49m  \u001b[38;5;66;03m# Get model predictions\u001b[39;00m\n\u001b[0;32m     12\u001b[0m     _, y_pred \u001b[38;5;241m=\u001b[39m torch\u001b[38;5;241m.\u001b[39mmax(outputs, \u001b[38;5;241m1\u001b[39m)  \u001b[38;5;66;03m# Get the predicted class indices\u001b[39;00m\n\u001b[0;32m     14\u001b[0m \u001b[38;5;66;03m# Convert probabilities to predicted classes\u001b[39;00m\n",
      "File \u001b[1;32m~\\AppData\\Local\\Programs\\Python\\Python312\\Lib\\site-packages\\torch\\nn\\modules\\module.py:1736\u001b[0m, in \u001b[0;36mModule._wrapped_call_impl\u001b[1;34m(self, *args, **kwargs)\u001b[0m\n\u001b[0;32m   1734\u001b[0m     \u001b[38;5;28;01mreturn\u001b[39;00m \u001b[38;5;28mself\u001b[39m\u001b[38;5;241m.\u001b[39m_compiled_call_impl(\u001b[38;5;241m*\u001b[39margs, \u001b[38;5;241m*\u001b[39m\u001b[38;5;241m*\u001b[39mkwargs)  \u001b[38;5;66;03m# type: ignore[misc]\u001b[39;00m\n\u001b[0;32m   1735\u001b[0m \u001b[38;5;28;01melse\u001b[39;00m:\n\u001b[1;32m-> 1736\u001b[0m     \u001b[38;5;28;01mreturn\u001b[39;00m \u001b[38;5;28;43mself\u001b[39;49m\u001b[38;5;241;43m.\u001b[39;49m\u001b[43m_call_impl\u001b[49m\u001b[43m(\u001b[49m\u001b[38;5;241;43m*\u001b[39;49m\u001b[43margs\u001b[49m\u001b[43m,\u001b[49m\u001b[43m \u001b[49m\u001b[38;5;241;43m*\u001b[39;49m\u001b[38;5;241;43m*\u001b[39;49m\u001b[43mkwargs\u001b[49m\u001b[43m)\u001b[49m\n",
      "File \u001b[1;32m~\\AppData\\Local\\Programs\\Python\\Python312\\Lib\\site-packages\\torch\\nn\\modules\\module.py:1747\u001b[0m, in \u001b[0;36mModule._call_impl\u001b[1;34m(self, *args, **kwargs)\u001b[0m\n\u001b[0;32m   1742\u001b[0m \u001b[38;5;66;03m# If we don't have any hooks, we want to skip the rest of the logic in\u001b[39;00m\n\u001b[0;32m   1743\u001b[0m \u001b[38;5;66;03m# this function, and just call forward.\u001b[39;00m\n\u001b[0;32m   1744\u001b[0m \u001b[38;5;28;01mif\u001b[39;00m \u001b[38;5;129;01mnot\u001b[39;00m (\u001b[38;5;28mself\u001b[39m\u001b[38;5;241m.\u001b[39m_backward_hooks \u001b[38;5;129;01mor\u001b[39;00m \u001b[38;5;28mself\u001b[39m\u001b[38;5;241m.\u001b[39m_backward_pre_hooks \u001b[38;5;129;01mor\u001b[39;00m \u001b[38;5;28mself\u001b[39m\u001b[38;5;241m.\u001b[39m_forward_hooks \u001b[38;5;129;01mor\u001b[39;00m \u001b[38;5;28mself\u001b[39m\u001b[38;5;241m.\u001b[39m_forward_pre_hooks\n\u001b[0;32m   1745\u001b[0m         \u001b[38;5;129;01mor\u001b[39;00m _global_backward_pre_hooks \u001b[38;5;129;01mor\u001b[39;00m _global_backward_hooks\n\u001b[0;32m   1746\u001b[0m         \u001b[38;5;129;01mor\u001b[39;00m _global_forward_hooks \u001b[38;5;129;01mor\u001b[39;00m _global_forward_pre_hooks):\n\u001b[1;32m-> 1747\u001b[0m     \u001b[38;5;28;01mreturn\u001b[39;00m \u001b[43mforward_call\u001b[49m\u001b[43m(\u001b[49m\u001b[38;5;241;43m*\u001b[39;49m\u001b[43margs\u001b[49m\u001b[43m,\u001b[49m\u001b[43m \u001b[49m\u001b[38;5;241;43m*\u001b[39;49m\u001b[38;5;241;43m*\u001b[39;49m\u001b[43mkwargs\u001b[49m\u001b[43m)\u001b[49m\n\u001b[0;32m   1749\u001b[0m result \u001b[38;5;241m=\u001b[39m \u001b[38;5;28;01mNone\u001b[39;00m\n\u001b[0;32m   1750\u001b[0m called_always_called_hooks \u001b[38;5;241m=\u001b[39m \u001b[38;5;28mset\u001b[39m()\n",
      "Cell \u001b[1;32mIn[37], line 33\u001b[0m, in \u001b[0;36mSilenceAnalysisCNN1D.forward\u001b[1;34m(self, x)\u001b[0m\n\u001b[0;32m     31\u001b[0m \u001b[38;5;28;01mdef\u001b[39;00m \u001b[38;5;21mforward\u001b[39m(\u001b[38;5;28mself\u001b[39m, x):\n\u001b[0;32m     32\u001b[0m     \u001b[38;5;66;03m# Pass through convolutional layers + ReLU + pooling\u001b[39;00m\n\u001b[1;32m---> 33\u001b[0m     x \u001b[38;5;241m=\u001b[39m \u001b[38;5;28mself\u001b[39m\u001b[38;5;241m.\u001b[39mpool(\u001b[38;5;28mself\u001b[39m\u001b[38;5;241m.\u001b[39mrelu(\u001b[38;5;28;43mself\u001b[39;49m\u001b[38;5;241;43m.\u001b[39;49m\u001b[43mconv1\u001b[49m\u001b[43m(\u001b[49m\u001b[43mx\u001b[49m\u001b[43m)\u001b[49m))\n\u001b[0;32m     34\u001b[0m     x \u001b[38;5;241m=\u001b[39m \u001b[38;5;28mself\u001b[39m\u001b[38;5;241m.\u001b[39mpool(\u001b[38;5;28mself\u001b[39m\u001b[38;5;241m.\u001b[39mrelu(\u001b[38;5;28mself\u001b[39m\u001b[38;5;241m.\u001b[39mconv2(x)))\n\u001b[0;32m     35\u001b[0m     x \u001b[38;5;241m=\u001b[39m \u001b[38;5;28mself\u001b[39m\u001b[38;5;241m.\u001b[39mpool(\u001b[38;5;28mself\u001b[39m\u001b[38;5;241m.\u001b[39mrelu(\u001b[38;5;28mself\u001b[39m\u001b[38;5;241m.\u001b[39mconv3(x)))\n",
      "File \u001b[1;32m~\\AppData\\Local\\Programs\\Python\\Python312\\Lib\\site-packages\\torch\\nn\\modules\\module.py:1736\u001b[0m, in \u001b[0;36mModule._wrapped_call_impl\u001b[1;34m(self, *args, **kwargs)\u001b[0m\n\u001b[0;32m   1734\u001b[0m     \u001b[38;5;28;01mreturn\u001b[39;00m \u001b[38;5;28mself\u001b[39m\u001b[38;5;241m.\u001b[39m_compiled_call_impl(\u001b[38;5;241m*\u001b[39margs, \u001b[38;5;241m*\u001b[39m\u001b[38;5;241m*\u001b[39mkwargs)  \u001b[38;5;66;03m# type: ignore[misc]\u001b[39;00m\n\u001b[0;32m   1735\u001b[0m \u001b[38;5;28;01melse\u001b[39;00m:\n\u001b[1;32m-> 1736\u001b[0m     \u001b[38;5;28;01mreturn\u001b[39;00m \u001b[38;5;28;43mself\u001b[39;49m\u001b[38;5;241;43m.\u001b[39;49m\u001b[43m_call_impl\u001b[49m\u001b[43m(\u001b[49m\u001b[38;5;241;43m*\u001b[39;49m\u001b[43margs\u001b[49m\u001b[43m,\u001b[49m\u001b[43m \u001b[49m\u001b[38;5;241;43m*\u001b[39;49m\u001b[38;5;241;43m*\u001b[39;49m\u001b[43mkwargs\u001b[49m\u001b[43m)\u001b[49m\n",
      "File \u001b[1;32m~\\AppData\\Local\\Programs\\Python\\Python312\\Lib\\site-packages\\torch\\nn\\modules\\module.py:1747\u001b[0m, in \u001b[0;36mModule._call_impl\u001b[1;34m(self, *args, **kwargs)\u001b[0m\n\u001b[0;32m   1742\u001b[0m \u001b[38;5;66;03m# If we don't have any hooks, we want to skip the rest of the logic in\u001b[39;00m\n\u001b[0;32m   1743\u001b[0m \u001b[38;5;66;03m# this function, and just call forward.\u001b[39;00m\n\u001b[0;32m   1744\u001b[0m \u001b[38;5;28;01mif\u001b[39;00m \u001b[38;5;129;01mnot\u001b[39;00m (\u001b[38;5;28mself\u001b[39m\u001b[38;5;241m.\u001b[39m_backward_hooks \u001b[38;5;129;01mor\u001b[39;00m \u001b[38;5;28mself\u001b[39m\u001b[38;5;241m.\u001b[39m_backward_pre_hooks \u001b[38;5;129;01mor\u001b[39;00m \u001b[38;5;28mself\u001b[39m\u001b[38;5;241m.\u001b[39m_forward_hooks \u001b[38;5;129;01mor\u001b[39;00m \u001b[38;5;28mself\u001b[39m\u001b[38;5;241m.\u001b[39m_forward_pre_hooks\n\u001b[0;32m   1745\u001b[0m         \u001b[38;5;129;01mor\u001b[39;00m _global_backward_pre_hooks \u001b[38;5;129;01mor\u001b[39;00m _global_backward_hooks\n\u001b[0;32m   1746\u001b[0m         \u001b[38;5;129;01mor\u001b[39;00m _global_forward_hooks \u001b[38;5;129;01mor\u001b[39;00m _global_forward_pre_hooks):\n\u001b[1;32m-> 1747\u001b[0m     \u001b[38;5;28;01mreturn\u001b[39;00m \u001b[43mforward_call\u001b[49m\u001b[43m(\u001b[49m\u001b[38;5;241;43m*\u001b[39;49m\u001b[43margs\u001b[49m\u001b[43m,\u001b[49m\u001b[43m \u001b[49m\u001b[38;5;241;43m*\u001b[39;49m\u001b[38;5;241;43m*\u001b[39;49m\u001b[43mkwargs\u001b[49m\u001b[43m)\u001b[49m\n\u001b[0;32m   1749\u001b[0m result \u001b[38;5;241m=\u001b[39m \u001b[38;5;28;01mNone\u001b[39;00m\n\u001b[0;32m   1750\u001b[0m called_always_called_hooks \u001b[38;5;241m=\u001b[39m \u001b[38;5;28mset\u001b[39m()\n",
      "File \u001b[1;32m~\\AppData\\Local\\Programs\\Python\\Python312\\Lib\\site-packages\\torch\\nn\\modules\\conv.py:375\u001b[0m, in \u001b[0;36mConv1d.forward\u001b[1;34m(self, input)\u001b[0m\n\u001b[0;32m    374\u001b[0m \u001b[38;5;28;01mdef\u001b[39;00m \u001b[38;5;21mforward\u001b[39m(\u001b[38;5;28mself\u001b[39m, \u001b[38;5;28minput\u001b[39m: Tensor) \u001b[38;5;241m-\u001b[39m\u001b[38;5;241m>\u001b[39m Tensor:\n\u001b[1;32m--> 375\u001b[0m     \u001b[38;5;28;01mreturn\u001b[39;00m \u001b[38;5;28;43mself\u001b[39;49m\u001b[38;5;241;43m.\u001b[39;49m\u001b[43m_conv_forward\u001b[49m\u001b[43m(\u001b[49m\u001b[38;5;28;43minput\u001b[39;49m\u001b[43m,\u001b[49m\u001b[43m \u001b[49m\u001b[38;5;28;43mself\u001b[39;49m\u001b[38;5;241;43m.\u001b[39;49m\u001b[43mweight\u001b[49m\u001b[43m,\u001b[49m\u001b[43m \u001b[49m\u001b[38;5;28;43mself\u001b[39;49m\u001b[38;5;241;43m.\u001b[39;49m\u001b[43mbias\u001b[49m\u001b[43m)\u001b[49m\n",
      "File \u001b[1;32m~\\AppData\\Local\\Programs\\Python\\Python312\\Lib\\site-packages\\torch\\nn\\modules\\conv.py:370\u001b[0m, in \u001b[0;36mConv1d._conv_forward\u001b[1;34m(self, input, weight, bias)\u001b[0m\n\u001b[0;32m    358\u001b[0m \u001b[38;5;28;01mif\u001b[39;00m \u001b[38;5;28mself\u001b[39m\u001b[38;5;241m.\u001b[39mpadding_mode \u001b[38;5;241m!=\u001b[39m \u001b[38;5;124m\"\u001b[39m\u001b[38;5;124mzeros\u001b[39m\u001b[38;5;124m\"\u001b[39m:\n\u001b[0;32m    359\u001b[0m     \u001b[38;5;28;01mreturn\u001b[39;00m F\u001b[38;5;241m.\u001b[39mconv1d(\n\u001b[0;32m    360\u001b[0m         F\u001b[38;5;241m.\u001b[39mpad(\n\u001b[0;32m    361\u001b[0m             \u001b[38;5;28minput\u001b[39m, \u001b[38;5;28mself\u001b[39m\u001b[38;5;241m.\u001b[39m_reversed_padding_repeated_twice, mode\u001b[38;5;241m=\u001b[39m\u001b[38;5;28mself\u001b[39m\u001b[38;5;241m.\u001b[39mpadding_mode\n\u001b[1;32m   (...)\u001b[0m\n\u001b[0;32m    368\u001b[0m         \u001b[38;5;28mself\u001b[39m\u001b[38;5;241m.\u001b[39mgroups,\n\u001b[0;32m    369\u001b[0m     )\n\u001b[1;32m--> 370\u001b[0m \u001b[38;5;28;01mreturn\u001b[39;00m \u001b[43mF\u001b[49m\u001b[38;5;241;43m.\u001b[39;49m\u001b[43mconv1d\u001b[49m\u001b[43m(\u001b[49m\n\u001b[0;32m    371\u001b[0m \u001b[43m    \u001b[49m\u001b[38;5;28;43minput\u001b[39;49m\u001b[43m,\u001b[49m\u001b[43m \u001b[49m\u001b[43mweight\u001b[49m\u001b[43m,\u001b[49m\u001b[43m \u001b[49m\u001b[43mbias\u001b[49m\u001b[43m,\u001b[49m\u001b[43m \u001b[49m\u001b[38;5;28;43mself\u001b[39;49m\u001b[38;5;241;43m.\u001b[39;49m\u001b[43mstride\u001b[49m\u001b[43m,\u001b[49m\u001b[43m \u001b[49m\u001b[38;5;28;43mself\u001b[39;49m\u001b[38;5;241;43m.\u001b[39;49m\u001b[43mpadding\u001b[49m\u001b[43m,\u001b[49m\u001b[43m \u001b[49m\u001b[38;5;28;43mself\u001b[39;49m\u001b[38;5;241;43m.\u001b[39;49m\u001b[43mdilation\u001b[49m\u001b[43m,\u001b[49m\u001b[43m \u001b[49m\u001b[38;5;28;43mself\u001b[39;49m\u001b[38;5;241;43m.\u001b[39;49m\u001b[43mgroups\u001b[49m\n\u001b[0;32m    372\u001b[0m \u001b[43m\u001b[49m\u001b[43m)\u001b[49m\n",
      "\u001b[1;31mRuntimeError\u001b[0m: [enforce fail at alloc_cpu.cpp:114] data. DefaultCPUAllocator: not enough memory: you tried to allocate 20106284352 bytes."
     ]
    }
   ],
   "source": [
    "y_true = np.array([1 if label == \"bonafide\" else 0 for label in true_labels]) # y_true are the true labels for each file\n",
    "\n",
    "X_test_tensor = torch.tensor(X_test_padded, dtype=torch.float32).view(-1, 1, sequence_length)\n",
    "y_test_tensor = torch.tensor(y_true, dtype=torch.long)\n",
    "\n",
    "\n",
    "model.eval()  # Set the model to evaluation mode\n",
    "# Forward pass through the model\n",
    "\n",
    "with torch.no_grad():  # Disable gradient computation\n",
    "    outputs = model(X_test_tensor)  # Get model predictions\n",
    "    _, y_pred = torch.max(outputs, 1)  # Get the predicted class indices\n",
    "\n",
    "# Convert probabilities to predicted classes\n",
    "y_pred_classes = np.argmax(y_pred, axis=1)\n"
   ]
  },
  {
   "cell_type": "code",
   "execution_count": 74,
   "id": "96f91710-3b79-4c3f-92c4-f9a543eb1ff7",
   "metadata": {},
   "outputs": [
    {
     "ename": "NameError",
     "evalue": "name 'y_pred_classes' is not defined",
     "output_type": "error",
     "traceback": [
      "\u001b[1;31m---------------------------------------------------------------------------\u001b[0m",
      "\u001b[1;31mNameError\u001b[0m                                 Traceback (most recent call last)",
      "Cell \u001b[1;32mIn[74], line 3\u001b[0m\n\u001b[0;32m      1\u001b[0m \u001b[38;5;66;03m# CONFUSION MATRIX\u001b[39;00m\n\u001b[1;32m----> 3\u001b[0m cm \u001b[38;5;241m=\u001b[39m confusion_matrix(y_true, \u001b[43my_pred_classes\u001b[49m)\n\u001b[0;32m      5\u001b[0m \u001b[38;5;66;03m# Display the confusion matrix\u001b[39;00m\n\u001b[0;32m      6\u001b[0m classes \u001b[38;5;241m=\u001b[39m [\u001b[38;5;124m\"\u001b[39m\u001b[38;5;124mspoof\u001b[39m\u001b[38;5;124m\"\u001b[39m, \u001b[38;5;124m\"\u001b[39m\u001b[38;5;124mbonafide\u001b[39m\u001b[38;5;124m\"\u001b[39m]\n",
      "\u001b[1;31mNameError\u001b[0m: name 'y_pred_classes' is not defined"
     ]
    }
   ],
   "source": [
    "# CONFUSION MATRIX\n",
    "\n",
    "cm = confusion_matrix(y_true, y_pred_classes)\n",
    "\n",
    "# Display the confusion matrix\n",
    "classes = [\"spoof\", \"bonafide\"]\n",
    "disp = ConfusionMatrixDisplay(confusion_matrix=cm, display_labels=classes)\n",
    "disp.plot(cmap=plt.cm.Blues)\n",
    "plt.title(\"Confusion Matrix\")\n",
    "plt.show()\n",
    "\n",
    "\n",
    "# ROC Curve\n",
    "\n",
    "from sklearn.metrics import roc_curve, auc\n",
    "\n",
    "# Predict using the loaded model\n",
    "y_pred = model.predict(X_test)\n",
    "\n",
    "# Get the predicted probabilities for the positive class\n",
    "y_pred_prob = y_pred[:, 1]\n",
    "\n",
    "# Compute ROC curve and AUC\n",
    "fpr, tpr, _ = roc_curve(y_true, y_pred_prob)\n",
    "roc_auc = auc(fpr, tpr)\n",
    "\n",
    "# Plot ROC curve\n",
    "plt.figure()\n",
    "plt.plot(fpr, tpr, color='darkorange', lw=2, label='ROC curve (area = %0.2f)' % roc_auc)\n",
    "plt.plot([0, 1], [0, 1], color='navy', lw=2, linestyle='--')\n",
    "plt.xlim([0.0, 1.0])\n",
    "plt.ylim([0.0, 1.05])\n",
    "plt.xlabel('False Positive Rate')\n",
    "plt.ylabel('True Positive Rate')\n",
    "plt.title('Receiver Operating Characteristic')\n",
    "plt.legend(loc=\"lower right\")\n",
    "plt.show()"
   ]
  },
  {
   "cell_type": "code",
   "execution_count": null,
   "id": "172c82da-45c4-4ded-aa31-00bcb44c5e5a",
   "metadata": {},
   "outputs": [],
   "source": []
  }
 ],
 "metadata": {
  "kernelspec": {
   "display_name": "Python 3 (ipykernel)",
   "language": "python",
   "name": "python3"
  },
  "language_info": {
   "codemirror_mode": {
    "name": "ipython",
    "version": 3
   },
   "file_extension": ".py",
   "mimetype": "text/x-python",
   "name": "python",
   "nbconvert_exporter": "python",
   "pygments_lexer": "ipython3",
   "version": "3.12.2"
  }
 },
 "nbformat": 4,
 "nbformat_minor": 5
}
